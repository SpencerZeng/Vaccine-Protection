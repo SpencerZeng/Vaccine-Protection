{
 "cells": [
  {
   "cell_type": "code",
   "metadata": {
    "cell_id": "acfae95e90c346e789407fc956b30c71",
    "tags": [],
    "deepnote_to_be_reexecuted": false,
    "source_hash": "147466c8",
    "execution_start": 1654907289856,
    "execution_millis": 1526,
    "deepnote_app_coordinates": {
     "x": 0,
     "y": 0,
     "w": 12,
     "h": 5
    },
    "deepnote_cell_type": "code",
    "deepnote_cell_height": 225
   },
   "source": "# libraries\nimport numpy as np\nimport pandas as pd\nimport altair as alt\nfrom sklearn.linear_model import LinearRegression\nfrom sklearn.metrics import r2_score\nfrom sklearn.preprocessing import add_dummy_feature\nalt.data_transformers.disable_max_rows()\ntidydata = pd.read_csv('data.csv').drop(columns = 'Unnamed: 0').iloc[186:, :].reset_index()",
   "execution_count": null,
   "outputs": []
  },
  {
   "cell_type": "markdown",
   "source": "# Vaccine Efficacy in California\n\nSpencer Zeng and Shivani Kharva\n\n#### Author contributions\n\nSpencer contributed: \"Visualizing deaths of each vaccination status in different months\", \"Exploring correlations within dataset\", \"Scattering boosted deaths against boosted cases by months and fitting a linear model\", \"Principal component analysis\"\n\nShivani contributed: \"Abstract\", \"Aims\", \"Methods\", \"Initial exploratory analysis\", \"Exploring the general relationship between death rate and cases (before and after Omicron spike)\", overall formatting\n\nBoth contributed: \"Background\", \"Datasets\", \"Discussion\"\n\n#### Abstract\n\nCovid-19 has rampaged throughout the entire world ever since its spread began in 2019. However, there have been scientific advances made to combat the virus with vaccinations and boosters. This project was conducted to explore the effectiveness of vaccination status on cases and deaths in California. There is an emphasis on the effects of the booster vaccination on deaths since that is the most recent advancement. Overall, it was found that, as individuals have more vaccinations, the death rate appears to be lower. Moreover, although total deaths appear to have a negative relationship with the population of California that has been boosted, it is unlikely that a linear model would describe the relationship between the two variables the most effectively.",
   "metadata": {
    "cell_id": "00001-c91bfc12-518b-42ac-95ef-23ce6bdc4233",
    "deepnote_app_coordinates": {
     "x": 0,
     "y": 18,
     "w": 12,
     "h": 5
    },
    "deepnote_cell_type": "markdown",
    "deepnote_cell_height": 500.6875
   }
  },
  {
   "cell_type": "markdown",
   "source": "---\n## Introduction\n\n### Background\n\nCOVID-19 (coronavirus disease 2019) is a disease caused by a virus named SARS-CoV-2. It mainly attacks the respiratory system and spreads out rapidly. Since December 2020, COVID-19 vaccines have shown to be effective at keeping people from severe illness. During August 2021, vaccine boosters were introduced to further enhance protection. Several studies have been dedicated to determine vaccine efficacy; specifically, the California Department of Public Health provides updates on post-vaccination infection data in California weekly.\n\nThe data in this project describes the vaccination status of individuals who have contracted, died, or been hospitalized due to COVID-19 in California. The data was collected in order to track the spread of COVID-19, along with its variants, and how it affects different individuals, depending on their vaccination status. No vaccine can be 100% effective and it is important to know whether the different vaccine treatments (initial vaccine and booster) have made a significant difference compared to individuals being unvaccinated. From this data, we can learn how effective the vaccine has been over time in California and whether individuals should be pushed towards getting the vaccination. Also, since the data is over time, the findings can show us whether the different vaccinations remain effective, especially against the variants of Covid-19 over time.\n\n### Aims\n\nThis project aims to compare the effect of vaccination status on cases and deaths of California individuals over time. The average deaths rates over time by vaccination status imply that those who are unvaccinated have higher death rates than those who are vaccinated, who in turn have higher death rates than those who are boosted. Furthermore, the relationship between death rates and case rates, divided between time periods before and after Omicron, appears to be similar for all three vaccination status. Before Omicron, the relationship between death rates and case rates appears to be nonlinear at first, which then turns into a slightly nonlinear positive relationship; however, after Omicron, the two variables have a nonlinear, curved relationship, where the death rate increases at first and then decreases. \n\nWhen focusing on the effect of the booster at death prevention after the Omicron spike, it was found that there was a nonlinear, curved, negative trend in the relationship between the total death rate and the population boosted. After fitting a linear model to the data, it was found that, though much of the total death rate can be explained by the explanatory variables, there is still some nonlinearity not explained by the fitted model. Principal component analysis (PCA) was then conducted in order to identify whether specific variables explained most of the variation in the death rate (testing for collinearity).",
   "metadata": {
    "cell_id": "00002-884989d0-5285-4078-9afa-92e1ea71c318",
    "deepnote_app_coordinates": {
     "x": 0,
     "y": 24,
     "w": 12,
     "h": 5
    },
    "owner_user_id": "f3bfa931-29bf-4c83-9cda-549db1094082",
    "deepnote_cell_type": "markdown",
    "deepnote_cell_height": 768.375
   }
  },
  {
   "cell_type": "markdown",
   "source": "---\n## Materials and methods\n\n### Datasets\n\nThe data are counts of cases, hospitalizations, and deaths from COVID-19 for unvaccinated, vaccinated, and boosted individuals in California. The data is from the California Open Data Portal and was collected by the California Department of Public Health (CDPH). The CDPH tracks the spread and effect of COVID-19 depending on vaccination status among California residents in order to monitor the impact of immunization campaigns.\n\nThe data is publicly available:\n\n> Citation: California Department of Public Health. (2022, May 16). COVID-19 Post-Vaccination Infection Data. Retrieved May 16, 2022, from California Open Data Portal.\n\n> https://data.ca.gov/dataset/covid-19-post-vaccination-infection-data\n\nThe data is collected by the CDPH from California's state immunization registry and registry of confirmed COVID-19 cases. The counts are updated by the CDPH after receiving reports from California hospitals (in this case, we are using the term 'hospitals' to include clinics, school clinics, etc.).\n\nAs for sampling, the population is all California residents. Since the data is collected by the CDPH to gather more information about COVID-19 in California, this is administrative data. The sampling frame is the California residents who get tested/vaccinated/hospitalized/etc. at hospitals that report to the California registry (does not include individuals who do not report having COVID-19 hospitals, asymptomatic/untested individuals who are positive for COVID-19, etc.). Our sample is equal to our sampling frame in this case.\n\nSince our sampling frame partly overlaps the population and our sampling mechanism is a census of the frame, we have no scope of inference. This may be a limitation to the particular topic we are investigating because we cannot make general conclusions about how vaccination status affects the entire population of California. Since the goal of the data is to provide more information about whether the vaccine is effective, having no scope of inference may hinder whether all California residents believe the findings in this data are relevant to them. However, these findings are still important because they can be generalized about individuals who do report their health status to some form of California hospitals (still a considerable proportion of the state).\n\nThe dataset contains 441 observations in total. The observation units are the dates of sample collection, and each observation is a daily record of vaccination status of COVID-19 cases, hospitalizations, and deaths in California from 02/01/2021 to 04/24/2022.\n\nBelow is the table of variable descriptions:\n\nName | Variable Description | Type | Units of Measurement\n--- | --- | --- | ---\n_____________________________________|______________________________________________________________________|______________|_______________\ndate  | reporting time period | day | none\npopulation_unvaccinated | number of persons age 12+ that have not received any does of COVID-19 vaccine | numeric | persons \npopulation_vaccinated | number of persons age 12+ with a complete primary COVID-19 vaccine series | numeric | persons\npopulation_boosted | number of persons age 12+ with a complete primary COVID-19 vaccine series and additonal booster dose | numeric | persons\nunvaccinated_cases_per_100k | rates of laboratory-confirmed COVID-19 cases among the unvaccinated per 100k persons | numeric | persons \nvaccinated_cases_per_100k | rates of laboratory-confirmed COVID-19 cases among the vaccinated per 100k persons | numeric | persons \nboosted_cases_per_100k | rates of laboratory-confirmed COVID-19 cases among the boosted per 100k persons | numeric | persons \nunvaccinated_hosp_per_100k | rates of hospitalized laboratory-confirmed COVID cases among the unvaccinated per 100k persons | numeric | persons \nvaccinated_hosp_per_100k | rates of hospitalized laboratory-confirmed COVID cases among the vaccinated per 100k persons | numeric | persons \nboosted_hosp_per_100k | rates of hospitalized laboratory-confirmed COVID cases among the boosted per 100k persons | numeric | persons  \nunvaccinated_deaths_per_100k | rates of  laboratory-confirmed COVID-19 deaths among the unvaccinated per 100k persons | numeric | persons  \nvaccinated_deaths_per_100k | rates of  laboratory-confirmed COVID-19 deaths among the vaccinated per 100k persons | numeric | persons  \nboosted_deaths_per_100k | rates of  laboratory-confirmed COVID-19 deaths among the boosted per 100k persons | numeric | persons  ",
   "metadata": {
    "cell_id": "00003-42e4e022-34aa-451f-8c8b-4ab06eec2e50",
    "deepnote_app_coordinates": {
     "x": 0,
     "y": 30,
     "w": 12,
     "h": 5
    },
    "deepnote_cell_type": "markdown",
    "deepnote_cell_height": 1500.09375
   }
  },
  {
   "cell_type": "markdown",
   "source": "Below is the first five rows of the tidied dataset:",
   "metadata": {
    "cell_id": "36e9de5bc79b489b8bedb1c054c3990f",
    "tags": [],
    "deepnote_app_coordinates": {
     "x": 0,
     "y": 36,
     "w": 12,
     "h": 5
    },
    "deepnote_cell_type": "markdown",
    "deepnote_cell_height": 52.390625
   }
  },
  {
   "cell_type": "code",
   "metadata": {
    "cell_id": "eb206d50f0bd4598b4fd7e63b2309602",
    "tags": [],
    "deepnote_to_be_reexecuted": false,
    "source_hash": "980a97d7",
    "execution_start": 1654907291389,
    "execution_millis": 91,
    "deepnote_app_coordinates": {
     "x": 0,
     "y": 42,
     "w": 12,
     "h": 5
    },
    "owner_user_id": "0ea6a05e-6d06-4124-8a0d-9470a13bc8a8",
    "deepnote_cell_type": "code",
    "deepnote_cell_height": 412
   },
   "source": "tidydata.head()",
   "execution_count": null,
   "outputs": [
    {
     "output_type": "execute_result",
     "execution_count": 2,
     "data": {
      "application/vnd.deepnote.dataframe.v3+json": {
       "column_count": 14,
       "row_count": 5,
       "columns": [
        {
         "name": "index",
         "dtype": "int64",
         "stats": {
          "unique_count": 5,
          "nan_count": 0,
          "min": "186",
          "max": "190",
          "histogram": [
           {
            "bin_start": 186,
            "bin_end": 186.4,
            "count": 1
           },
           {
            "bin_start": 186.4,
            "bin_end": 186.8,
            "count": 0
           },
           {
            "bin_start": 186.8,
            "bin_end": 187.2,
            "count": 1
           },
           {
            "bin_start": 187.2,
            "bin_end": 187.6,
            "count": 0
           },
           {
            "bin_start": 187.6,
            "bin_end": 188,
            "count": 0
           },
           {
            "bin_start": 188,
            "bin_end": 188.4,
            "count": 1
           },
           {
            "bin_start": 188.4,
            "bin_end": 188.8,
            "count": 0
           },
           {
            "bin_start": 188.8,
            "bin_end": 189.2,
            "count": 1
           },
           {
            "bin_start": 189.2,
            "bin_end": 189.6,
            "count": 0
           },
           {
            "bin_start": 189.6,
            "bin_end": 190,
            "count": 1
           }
          ]
         }
        },
        {
         "name": "date",
         "dtype": "object",
         "stats": {
          "unique_count": 5,
          "nan_count": 0,
          "categories": [
           {
            "name": "2021-08-13",
            "count": 1
           },
           {
            "name": "2021-08-14",
            "count": 1
           },
           {
            "name": "3 others",
            "count": 3
           }
          ]
         }
        },
        {
         "name": "population_unvaccinated",
         "dtype": "int64",
         "stats": {
          "unique_count": 5,
          "nan_count": 0,
          "min": "9595515",
          "max": "9767659",
          "histogram": [
           {
            "bin_start": 9595515,
            "bin_end": 9612729.4,
            "count": 1
           },
           {
            "bin_start": 9612729.4,
            "bin_end": 9629943.8,
            "count": 0
           },
           {
            "bin_start": 9629943.8,
            "bin_end": 9647158.2,
            "count": 0
           },
           {
            "bin_start": 9647158.2,
            "bin_end": 9664372.6,
            "count": 1
           },
           {
            "bin_start": 9664372.6,
            "bin_end": 9681587,
            "count": 0
           },
           {
            "bin_start": 9681587,
            "bin_end": 9698801.4,
            "count": 0
           },
           {
            "bin_start": 9698801.4,
            "bin_end": 9716015.8,
            "count": 1
           },
           {
            "bin_start": 9716015.8,
            "bin_end": 9733230.2,
            "count": 1
           },
           {
            "bin_start": 9733230.2,
            "bin_end": 9750444.6,
            "count": 0
           },
           {
            "bin_start": 9750444.6,
            "bin_end": 9767659,
            "count": 1
           }
          ]
         }
        },
        {
         "name": "population_vaccinated",
         "dtype": "int64",
         "stats": {
          "unique_count": 5,
          "nan_count": 0,
          "min": "22033557",
          "max": "22128729",
          "histogram": [
           {
            "bin_start": 22033557,
            "bin_end": 22043074.2,
            "count": 1
           },
           {
            "bin_start": 22043074.2,
            "bin_end": 22052591.4,
            "count": 0
           },
           {
            "bin_start": 22052591.4,
            "bin_end": 22062108.6,
            "count": 1
           },
           {
            "bin_start": 22062108.6,
            "bin_end": 22071625.8,
            "count": 1
           },
           {
            "bin_start": 22071625.8,
            "bin_end": 22081143,
            "count": 0
           },
           {
            "bin_start": 22081143,
            "bin_end": 22090660.2,
            "count": 0
           },
           {
            "bin_start": 22090660.2,
            "bin_end": 22100177.4,
            "count": 1
           },
           {
            "bin_start": 22100177.4,
            "bin_end": 22109694.6,
            "count": 0
           },
           {
            "bin_start": 22109694.6,
            "bin_end": 22119211.8,
            "count": 0
           },
           {
            "bin_start": 22119211.8,
            "bin_end": 22128729,
            "count": 1
           }
          ]
         }
        },
        {
         "name": "population_boosted",
         "dtype": "int64",
         "stats": {
          "unique_count": 5,
          "nan_count": 0,
          "min": "1099",
          "max": "4395",
          "histogram": [
           {
            "bin_start": 1099,
            "bin_end": 1428.6,
            "count": 1
           },
           {
            "bin_start": 1428.6,
            "bin_end": 1758.2,
            "count": 0
           },
           {
            "bin_start": 1758.2,
            "bin_end": 2087.8,
            "count": 1
           },
           {
            "bin_start": 2087.8,
            "bin_end": 2417.4,
            "count": 0
           },
           {
            "bin_start": 2417.4,
            "bin_end": 2747,
            "count": 1
           },
           {
            "bin_start": 2747,
            "bin_end": 3076.6000000000004,
            "count": 0
           },
           {
            "bin_start": 3076.6000000000004,
            "bin_end": 3406.2000000000003,
            "count": 0
           },
           {
            "bin_start": 3406.2000000000003,
            "bin_end": 3735.8,
            "count": 1
           },
           {
            "bin_start": 3735.8,
            "bin_end": 4065.4,
            "count": 0
           },
           {
            "bin_start": 4065.4,
            "bin_end": 4395,
            "count": 1
           }
          ]
         }
        },
        {
         "name": "unvaccinated_cases_per_100k",
         "dtype": "float64",
         "stats": {
          "unique_count": 5,
          "nan_count": 0,
          "min": "84.71815069",
          "max": "85.18052132",
          "histogram": [
           {
            "bin_start": 84.71815069,
            "bin_end": 84.764387753,
            "count": 1
           },
           {
            "bin_start": 84.764387753,
            "bin_end": 84.810624816,
            "count": 0
           },
           {
            "bin_start": 84.810624816,
            "bin_end": 84.85686187900001,
            "count": 0
           },
           {
            "bin_start": 84.85686187900001,
            "bin_end": 84.903098942,
            "count": 0
           },
           {
            "bin_start": 84.903098942,
            "bin_end": 84.94933600499999,
            "count": 2
           },
           {
            "bin_start": 84.94933600499999,
            "bin_end": 84.995573068,
            "count": 0
           },
           {
            "bin_start": 84.995573068,
            "bin_end": 85.041810131,
            "count": 0
           },
           {
            "bin_start": 85.041810131,
            "bin_end": 85.088047194,
            "count": 0
           },
           {
            "bin_start": 85.088047194,
            "bin_end": 85.13428425699999,
            "count": 0
           },
           {
            "bin_start": 85.13428425699999,
            "bin_end": 85.18052132,
            "count": 2
           }
          ]
         }
        },
        {
         "name": "vaccinated_cases_per_100k",
         "dtype": "float64",
         "stats": {
          "unique_count": 5,
          "nan_count": 0,
          "min": "13.70099992",
          "max": "14.35472785",
          "histogram": [
           {
            "bin_start": 13.70099992,
            "bin_end": 13.766372712999999,
            "count": 1
           },
           {
            "bin_start": 13.766372712999999,
            "bin_end": 13.831745505999999,
            "count": 0
           },
           {
            "bin_start": 13.831745505999999,
            "bin_end": 13.897118298999999,
            "count": 0
           },
           {
            "bin_start": 13.897118298999999,
            "bin_end": 13.962491091999999,
            "count": 1
           },
           {
            "bin_start": 13.962491091999999,
            "bin_end": 14.027863884999999,
            "count": 0
           },
           {
            "bin_start": 14.027863884999999,
            "bin_end": 14.093236678,
            "count": 1
           },
           {
            "bin_start": 14.093236678,
            "bin_end": 14.158609471,
            "count": 0
           },
           {
            "bin_start": 14.158609471,
            "bin_end": 14.223982264,
            "count": 0
           },
           {
            "bin_start": 14.223982264,
            "bin_end": 14.289355057,
            "count": 0
           },
           {
            "bin_start": 14.289355057,
            "bin_end": 14.35472785,
            "count": 2
           }
          ]
         }
        },
        {
         "name": "boosted_cases_per_100k",
         "dtype": "float64",
         "stats": {
          "unique_count": 5,
          "nan_count": 0,
          "min": "38.99649032",
          "max": "71.0732054",
          "histogram": [
           {
            "bin_start": 38.99649032,
            "bin_end": 42.204161828,
            "count": 1
           },
           {
            "bin_start": 42.204161828,
            "bin_end": 45.411833336,
            "count": 0
           },
           {
            "bin_start": 45.411833336,
            "bin_end": 48.619504844000005,
            "count": 0
           },
           {
            "bin_start": 48.619504844000005,
            "bin_end": 51.827176352,
            "count": 0
           },
           {
            "bin_start": 51.827176352,
            "bin_end": 55.03484786,
            "count": 0
           },
           {
            "bin_start": 55.03484786,
            "bin_end": 58.242519368,
            "count": 0
           },
           {
            "bin_start": 58.242519368,
            "bin_end": 61.45019087600001,
            "count": 1
           },
           {
            "bin_start": 61.45019087600001,
            "bin_end": 64.657862384,
            "count": 1
           },
           {
            "bin_start": 64.657862384,
            "bin_end": 67.865533892,
            "count": 0
           },
           {
            "bin_start": 67.865533892,
            "bin_end": 71.0732054,
            "count": 2
           }
          ]
         }
        },
        {
         "name": "unvaccinated_hosp_per_100k",
         "dtype": "float64",
         "stats": {
          "unique_count": 5,
          "nan_count": 0,
          "min": "6.80671943",
          "max": "6.85439276",
          "histogram": [
           {
            "bin_start": 6.80671943,
            "bin_end": 6.811486763,
            "count": 2
           },
           {
            "bin_start": 6.811486763,
            "bin_end": 6.816254096,
            "count": 0
           },
           {
            "bin_start": 6.816254096,
            "bin_end": 6.821021429,
            "count": 0
           },
           {
            "bin_start": 6.821021429,
            "bin_end": 6.825788762,
            "count": 1
           },
           {
            "bin_start": 6.825788762,
            "bin_end": 6.830556095,
            "count": 0
           },
           {
            "bin_start": 6.830556095,
            "bin_end": 6.835323428,
            "count": 0
           },
           {
            "bin_start": 6.835323428,
            "bin_end": 6.840090761,
            "count": 0
           },
           {
            "bin_start": 6.840090761,
            "bin_end": 6.844858094,
            "count": 0
           },
           {
            "bin_start": 6.844858094,
            "bin_end": 6.849625426999999,
            "count": 1
           },
           {
            "bin_start": 6.849625426999999,
            "bin_end": 6.85439276,
            "count": 1
           }
          ]
         }
        },
        {
         "name": "vaccinated_hosp_per_100k",
         "dtype": "float64",
         "stats": {
          "unique_count": 5,
          "nan_count": 0,
          "min": "0.5347533",
          "max": "0.55648409",
          "histogram": [
           {
            "bin_start": 0.5347533,
            "bin_end": 0.536926379,
            "count": 1
           },
           {
            "bin_start": 0.536926379,
            "bin_end": 0.539099458,
            "count": 0
           },
           {
            "bin_start": 0.539099458,
            "bin_end": 0.541272537,
            "count": 1
           },
           {
            "bin_start": 0.541272537,
            "bin_end": 0.543445616,
            "count": 1
           },
           {
            "bin_start": 0.543445616,
            "bin_end": 0.5456186949999999,
            "count": 0
           },
           {
            "bin_start": 0.5456186949999999,
            "bin_end": 0.547791774,
            "count": 1
           },
           {
            "bin_start": 0.547791774,
            "bin_end": 0.549964853,
            "count": 0
           },
           {
            "bin_start": 0.549964853,
            "bin_end": 0.5521379319999999,
            "count": 0
           },
           {
            "bin_start": 0.5521379319999999,
            "bin_end": 0.554311011,
            "count": 0
           },
           {
            "bin_start": 0.554311011,
            "bin_end": 0.55648409,
            "count": 1
           }
          ]
         }
        },
        {
         "name": "boosted_hosp_per_100k",
         "dtype": "float64",
         "stats": {
          "unique_count": 5,
          "nan_count": 0,
          "min": "0.0",
          "max": "7.33729547",
          "histogram": [
           {
            "bin_start": 0,
            "bin_end": 0.733729547,
            "count": 1
           },
           {
            "bin_start": 0.733729547,
            "bin_end": 1.467459094,
            "count": 0
           },
           {
            "bin_start": 1.467459094,
            "bin_end": 2.201188641,
            "count": 0
           },
           {
            "bin_start": 2.201188641,
            "bin_end": 2.934918188,
            "count": 0
           },
           {
            "bin_start": 2.934918188,
            "bin_end": 3.6686477350000004,
            "count": 1
           },
           {
            "bin_start": 3.6686477350000004,
            "bin_end": 4.402377282,
            "count": 1
           },
           {
            "bin_start": 4.402377282,
            "bin_end": 5.136106829,
            "count": 0
           },
           {
            "bin_start": 5.136106829,
            "bin_end": 5.869836376,
            "count": 1
           },
           {
            "bin_start": 5.869836376,
            "bin_end": 6.603565923000001,
            "count": 0
           },
           {
            "bin_start": 6.603565923000001,
            "bin_end": 7.33729547,
            "count": 1
           }
          ]
         }
        },
        {
         "name": "unvaccinated_deaths_per_100k",
         "dtype": "float64",
         "stats": {
          "unique_count": 5,
          "nan_count": 0,
          "min": "0.68593713",
          "max": "0.84712196",
          "histogram": [
           {
            "bin_start": 0.68593713,
            "bin_end": 0.702055613,
            "count": 1
           },
           {
            "bin_start": 0.702055613,
            "bin_end": 0.718174096,
            "count": 0
           },
           {
            "bin_start": 0.718174096,
            "bin_end": 0.734292579,
            "count": 1
           },
           {
            "bin_start": 0.734292579,
            "bin_end": 0.750411062,
            "count": 1
           },
           {
            "bin_start": 0.750411062,
            "bin_end": 0.766529545,
            "count": 0
           },
           {
            "bin_start": 0.766529545,
            "bin_end": 0.782648028,
            "count": 0
           },
           {
            "bin_start": 0.782648028,
            "bin_end": 0.798766511,
            "count": 1
           },
           {
            "bin_start": 0.798766511,
            "bin_end": 0.814884994,
            "count": 0
           },
           {
            "bin_start": 0.814884994,
            "bin_end": 0.831003477,
            "count": 0
           },
           {
            "bin_start": 0.831003477,
            "bin_end": 0.84712196,
            "count": 1
           }
          ]
         }
        },
        {
         "name": "vaccinated_deaths_per_100k",
         "dtype": "float64",
         "stats": {
          "unique_count": 5,
          "nan_count": 0,
          "min": "0.04920248",
          "max": "0.05939273",
          "histogram": [
           {
            "bin_start": 0.04920248,
            "bin_end": 0.050221505,
            "count": 3
           },
           {
            "bin_start": 0.050221505,
            "bin_end": 0.05124053,
            "count": 0
           },
           {
            "bin_start": 0.05124053,
            "bin_end": 0.052259555,
            "count": 0
           },
           {
            "bin_start": 0.052259555,
            "bin_end": 0.05327858,
            "count": 0
           },
           {
            "bin_start": 0.05327858,
            "bin_end": 0.054297605,
            "count": 0
           },
           {
            "bin_start": 0.054297605,
            "bin_end": 0.05531663,
            "count": 0
           },
           {
            "bin_start": 0.05531663,
            "bin_end": 0.056335655,
            "count": 0
           },
           {
            "bin_start": 0.056335655,
            "bin_end": 0.05735468,
            "count": 0
           },
           {
            "bin_start": 0.05735468,
            "bin_end": 0.058373705,
            "count": 1
           },
           {
            "bin_start": 0.058373705,
            "bin_end": 0.05939273,
            "count": 1
           }
          ]
         }
        },
        {
         "name": "boosted_deaths_per_100k",
         "dtype": "float64",
         "stats": {
          "unique_count": 1,
          "nan_count": 0,
          "min": "0.0",
          "max": "0.0",
          "histogram": [
           {
            "bin_start": -0.5,
            "bin_end": -0.4,
            "count": 0
           },
           {
            "bin_start": -0.4,
            "bin_end": -0.3,
            "count": 0
           },
           {
            "bin_start": -0.3,
            "bin_end": -0.19999999999999996,
            "count": 0
           },
           {
            "bin_start": -0.19999999999999996,
            "bin_end": -0.09999999999999998,
            "count": 0
           },
           {
            "bin_start": -0.09999999999999998,
            "bin_end": 0,
            "count": 0
           },
           {
            "bin_start": 0,
            "bin_end": 0.10000000000000009,
            "count": 5
           },
           {
            "bin_start": 0.10000000000000009,
            "bin_end": 0.20000000000000007,
            "count": 0
           },
           {
            "bin_start": 0.20000000000000007,
            "bin_end": 0.30000000000000004,
            "count": 0
           },
           {
            "bin_start": 0.30000000000000004,
            "bin_end": 0.4,
            "count": 0
           },
           {
            "bin_start": 0.4,
            "bin_end": 0.5,
            "count": 0
           }
          ]
         }
        },
        {
         "name": "_deepnote_index_column",
         "dtype": "int64"
        }
       ],
       "rows": [
        {
         "index": 186,
         "date": "2021-08-13",
         "population_unvaccinated": 9767659,
         "population_vaccinated": 22033557,
         "population_boosted": 1099,
         "unvaccinated_cases_per_100k": 85.18052132,
         "vaccinated_cases_per_100k": 14.35472785,
         "boosted_cases_per_100k": 38.99649032,
         "unvaccinated_hosp_per_100k": 6.80671943,
         "vaccinated_hosp_per_100k": 0.53943693,
         "boosted_hosp_per_100k": 0,
         "unvaccinated_deaths_per_100k": 0.68593713,
         "vaccinated_deaths_per_100k": 0.04992385,
         "boosted_deaths_per_100k": 0,
         "_deepnote_index_column": 0
        },
        {
         "index": 187,
         "date": "2021-08-14",
         "population_unvaccinated": 9729344,
         "population_vaccinated": 22056444,
         "population_boosted": 1947,
         "unvaccinated_cases_per_100k": 85.16944792,
         "vaccinated_cases_per_100k": 14.2919036,
         "boosted_cases_per_100k": 58.69836378,
         "unvaccinated_hosp_per_100k": 6.80856357,
         "vaccinated_hosp_per_100k": 0.54664944,
         "boosted_hosp_per_100k": 7.33729547,
         "unvaccinated_deaths_per_100k": 0.73121946,
         "vaccinated_deaths_per_100k": 0.04922436,
         "boosted_deaths_per_100k": 0,
         "_deepnote_index_column": 1
        },
        {
         "index": 188,
         "date": "2021-08-15",
         "population_unvaccinated": 9708761,
         "population_vaccinated": 22066250,
         "population_boosted": 2613,
         "unvaccinated_cases_per_100k": 84.94095473,
         "vaccinated_cases_per_100k": 14.07903149,
         "boosted_cases_per_100k": 71.0732054,
         "unvaccinated_hosp_per_100k": 6.84948368,
         "vaccinated_hosp_per_100k": 0.5347533,
         "boosted_hosp_per_100k": 5.46716965,
         "unvaccinated_deaths_per_100k": 0.73571253,
         "vaccinated_deaths_per_100k": 0.04920248,
         "boosted_deaths_per_100k": 0,
         "_deepnote_index_column": 2
        },
        {
         "index": 189,
         "date": "2021-08-16",
         "population_unvaccinated": 9654877,
         "population_vaccinated": 22094991,
         "population_boosted": 3470,
         "unvaccinated_cases_per_100k": 84.93117002,
         "vaccinated_cases_per_100k": 13.95985439,
         "boosted_cases_per_100k": 69.98764924,
         "unvaccinated_hosp_per_100k": 6.82408634,
         "vaccinated_hosp_per_100k": 0.5418164,
         "boosted_hosp_per_100k": 4.11692054,
         "unvaccinated_deaths_per_100k": 0.7856873,
         "vaccinated_deaths_per_100k": 0.05754375,
         "boosted_deaths_per_100k": 0,
         "_deepnote_index_column": 3
        },
        {
         "index": 190,
         "date": "2021-08-17",
         "population_unvaccinated": 9595515,
         "population_vaccinated": 22128729,
         "population_boosted": 4395,
         "unvaccinated_cases_per_100k": 84.71815069,
         "vaccinated_cases_per_100k": 13.70099992,
         "boosted_cases_per_100k": 61.75849179,
         "unvaccinated_hosp_per_100k": 6.85439276,
         "vaccinated_hosp_per_100k": 0.55648409,
         "boosted_hosp_per_100k": 3.25044694,
         "unvaccinated_deaths_per_100k": 0.84712196,
         "vaccinated_deaths_per_100k": 0.05939273,
         "boosted_deaths_per_100k": 0,
         "_deepnote_index_column": 4
        }
       ]
      },
      "text/plain": "   index        date  population_unvaccinated  population_vaccinated  \\\n0    186  2021-08-13                  9767659               22033557   \n1    187  2021-08-14                  9729344               22056444   \n2    188  2021-08-15                  9708761               22066250   \n3    189  2021-08-16                  9654877               22094991   \n4    190  2021-08-17                  9595515               22128729   \n\n   population_boosted  unvaccinated_cases_per_100k  vaccinated_cases_per_100k  \\\n0                1099                    85.180521                  14.354728   \n1                1947                    85.169448                  14.291904   \n2                2613                    84.940955                  14.079031   \n3                3470                    84.931170                  13.959854   \n4                4395                    84.718151                  13.701000   \n\n   boosted_cases_per_100k  unvaccinated_hosp_per_100k  \\\n0               38.996490                    6.806719   \n1               58.698364                    6.808564   \n2               71.073205                    6.849484   \n3               69.987649                    6.824086   \n4               61.758492                    6.854393   \n\n   vaccinated_hosp_per_100k  boosted_hosp_per_100k  \\\n0                  0.539437               0.000000   \n1                  0.546649               7.337295   \n2                  0.534753               5.467170   \n3                  0.541816               4.116921   \n4                  0.556484               3.250447   \n\n   unvaccinated_deaths_per_100k  vaccinated_deaths_per_100k  \\\n0                      0.685937                    0.049924   \n1                      0.731219                    0.049224   \n2                      0.735713                    0.049202   \n3                      0.785687                    0.057544   \n4                      0.847122                    0.059393   \n\n   boosted_deaths_per_100k  \n0                      0.0  \n1                      0.0  \n2                      0.0  \n3                      0.0  \n4                      0.0  ",
      "text/html": "<div>\n<style scoped>\n    .dataframe tbody tr th:only-of-type {\n        vertical-align: middle;\n    }\n\n    .dataframe tbody tr th {\n        vertical-align: top;\n    }\n\n    .dataframe thead th {\n        text-align: right;\n    }\n</style>\n<table border=\"1\" class=\"dataframe\">\n  <thead>\n    <tr style=\"text-align: right;\">\n      <th></th>\n      <th>index</th>\n      <th>date</th>\n      <th>population_unvaccinated</th>\n      <th>population_vaccinated</th>\n      <th>population_boosted</th>\n      <th>unvaccinated_cases_per_100k</th>\n      <th>vaccinated_cases_per_100k</th>\n      <th>boosted_cases_per_100k</th>\n      <th>unvaccinated_hosp_per_100k</th>\n      <th>vaccinated_hosp_per_100k</th>\n      <th>boosted_hosp_per_100k</th>\n      <th>unvaccinated_deaths_per_100k</th>\n      <th>vaccinated_deaths_per_100k</th>\n      <th>boosted_deaths_per_100k</th>\n    </tr>\n  </thead>\n  <tbody>\n    <tr>\n      <th>0</th>\n      <td>186</td>\n      <td>2021-08-13</td>\n      <td>9767659</td>\n      <td>22033557</td>\n      <td>1099</td>\n      <td>85.180521</td>\n      <td>14.354728</td>\n      <td>38.996490</td>\n      <td>6.806719</td>\n      <td>0.539437</td>\n      <td>0.000000</td>\n      <td>0.685937</td>\n      <td>0.049924</td>\n      <td>0.0</td>\n    </tr>\n    <tr>\n      <th>1</th>\n      <td>187</td>\n      <td>2021-08-14</td>\n      <td>9729344</td>\n      <td>22056444</td>\n      <td>1947</td>\n      <td>85.169448</td>\n      <td>14.291904</td>\n      <td>58.698364</td>\n      <td>6.808564</td>\n      <td>0.546649</td>\n      <td>7.337295</td>\n      <td>0.731219</td>\n      <td>0.049224</td>\n      <td>0.0</td>\n    </tr>\n    <tr>\n      <th>2</th>\n      <td>188</td>\n      <td>2021-08-15</td>\n      <td>9708761</td>\n      <td>22066250</td>\n      <td>2613</td>\n      <td>84.940955</td>\n      <td>14.079031</td>\n      <td>71.073205</td>\n      <td>6.849484</td>\n      <td>0.534753</td>\n      <td>5.467170</td>\n      <td>0.735713</td>\n      <td>0.049202</td>\n      <td>0.0</td>\n    </tr>\n    <tr>\n      <th>3</th>\n      <td>189</td>\n      <td>2021-08-16</td>\n      <td>9654877</td>\n      <td>22094991</td>\n      <td>3470</td>\n      <td>84.931170</td>\n      <td>13.959854</td>\n      <td>69.987649</td>\n      <td>6.824086</td>\n      <td>0.541816</td>\n      <td>4.116921</td>\n      <td>0.785687</td>\n      <td>0.057544</td>\n      <td>0.0</td>\n    </tr>\n    <tr>\n      <th>4</th>\n      <td>190</td>\n      <td>2021-08-17</td>\n      <td>9595515</td>\n      <td>22128729</td>\n      <td>4395</td>\n      <td>84.718151</td>\n      <td>13.701000</td>\n      <td>61.758492</td>\n      <td>6.854393</td>\n      <td>0.556484</td>\n      <td>3.250447</td>\n      <td>0.847122</td>\n      <td>0.059393</td>\n      <td>0.0</td>\n    </tr>\n  </tbody>\n</table>\n</div>"
     },
     "metadata": {}
    }
   ]
  },
  {
   "cell_type": "markdown",
   "source": "### Methods\n\nExploratory analysis aimed at discovering whether specific vaccination status' appear to be more effective than others. This stage of the analysis identified that unvaccinated individuals have higher death rates compared to those who are vaccinated, who have higher death rates than boosted individuals. Furthermore, the relationship between deaths (per 100k) and cases (per 100k) by vaccination status was plotted and separated by time periods before and after Omicron to observe and compare the pattern of death depending on vaccination status. Similar patterns were observed, and the aforementioned comparisons of death rates was further confirmed. In order to analyze the specific effect of the booster on the total death rate, an initial exploratory scatterplot of total deaths against population boosted was analyzed by months. A multiple linear model was fitted to this plot with month (qualitative with four levels) and population boosted (quanititative) as regressors on the log transformation of total deaths. The model generally fit the data well and revealed that each month appears to follow a general trend; however, the linear model did not fully encompass the nonlinear parts of the data and seemed to contain too many regressors (based on the model summary). Principal component analysis was then conducted to discover any collinearity to test whether we had any unnecessary variables.",
   "metadata": {
    "cell_id": "f387895705304b278c696ee0a45d83c8",
    "tags": [],
    "deepnote_app_coordinates": {
     "x": 0,
     "y": 48,
     "w": 12,
     "h": 5
    },
    "deepnote_cell_type": "markdown",
    "deepnote_cell_height": 324.296875
   }
  },
  {
   "cell_type": "markdown",
   "source": "---\n## Results",
   "metadata": {
    "cell_id": "00004-9229637c-f874-4a46-924e-c4ac099d1e06",
    "deepnote_app_coordinates": {
     "x": 0,
     "y": 54,
     "w": 12,
     "h": 5
    },
    "deepnote_cell_type": "markdown",
    "deepnote_cell_height": 71
   }
  },
  {
   "cell_type": "markdown",
   "source": "### Initial exploratory analysis",
   "metadata": {
    "cell_id": "74c6f15d10204340b768632da869e64e",
    "tags": [],
    "deepnote_app_coordinates": {
     "x": 0,
     "y": 60,
     "w": 12,
     "h": 5
    },
    "deepnote_cell_type": "markdown",
    "deepnote_cell_height": 62
   }
  },
  {
   "cell_type": "markdown",
   "source": "<center><img src='Figures/deaths by month.png' style='width:600px'></center>",
   "metadata": {
    "cell_id": "46b8ece3af9548e38481df46eb877042",
    "tags": [],
    "deepnote_app_coordinates": {
     "x": 0,
     "y": 66,
     "w": 12,
     "h": 5
    },
    "deepnote_cell_type": "markdown",
    "deepnote_cell_height": 346.109375
   }
  },
  {
   "cell_type": "markdown",
   "source": "*Figure 1: Bar graphs depicting average deaths (per 100k) per month by vaccination status (unvaccination, vaccinated, boosted)*",
   "metadata": {
    "cell_id": "4e3b6e3e7e2d4333b43b31370b84a347",
    "tags": [],
    "deepnote_app_coordinates": {
     "x": 0,
     "y": 444,
     "w": 12,
     "h": 5
    },
    "deepnote_cell_type": "markdown",
    "deepnote_cell_height": 52.390625
   }
  },
  {
   "cell_type": "markdown",
   "source": "As we can see in each of the graphs, there appears to be a spike in average deaths (per 100k) for all vaccination status in the month of January (which also appears). In particular, by viewing the raw data, it appears to shift on January 09, 2022. From this observation, we have decided to analyze the data in two subgroups: before and after January 09, 2022.",
   "metadata": {
    "cell_id": "cc972eb1609146589d7936d24175b237",
    "tags": [],
    "deepnote_app_coordinates": {
     "x": 0,
     "y": 72,
     "w": 12,
     "h": 5
    },
    "deepnote_cell_type": "markdown",
    "deepnote_cell_height": 97.171875
   }
  },
  {
   "cell_type": "markdown",
   "source": "### Exploring the general relationship between death rate and cases (before and after Omicron spike)",
   "metadata": {
    "cell_id": "b4571d3e20ff4790859f591f04caf51b",
    "tags": [],
    "deepnote_app_coordinates": {
     "x": 0,
     "y": 78,
     "w": 12,
     "h": 5
    },
    "deepnote_cell_type": "markdown",
    "deepnote_cell_height": 94
   }
  },
  {
   "cell_type": "markdown",
   "source": "<center><img src='Figures/deaths vs cases.png' style='width:1000px'></center>",
   "metadata": {
    "cell_id": "a27f633154114783ae69ae40ea7a3643",
    "tags": [],
    "deepnote_app_coordinates": {
     "x": 0,
     "y": 84,
     "w": 12,
     "h": 5
    },
    "deepnote_cell_type": "markdown",
    "deepnote_cell_height": 70
   }
  },
  {
   "cell_type": "markdown",
   "source": "*Figure 2: Scatterplots displaying the relationship between deaths (per 100k) and cases (per 100k) by vaccination status (unvaccination, vaccinated, boosted), divided by the periods before (yellow) and after (blue) the Omicron spike on January 09, 2022*",
   "metadata": {
    "cell_id": "71f10799b9ce449e925e220b883fa850",
    "tags": [],
    "deepnote_app_coordinates": {
     "x": 0,
     "y": 450,
     "w": 12,
     "h": 5
    },
    "deepnote_cell_type": "markdown",
    "deepnote_cell_height": 97.171875
   }
  },
  {
   "cell_type": "markdown",
   "source": "Each of the graphs show that there were generally fewer deaths before January 2022 than after. Another trend that is apparent in each of the graphs is that, before January 2022, there was a positive pattern that was relatively close to linear between deaths and cases for each vaccination status; however, after January 2022, it is shown that there is a curved pattern, with deaths increasing and then decreasing with the increase of cases. Finally, by paying attention to the y-axis, we can see that, though the graphs tend to follow similar patterns, relatively, the unvaccinated cases are associated with higher deaths (peak around 3 deaths per 100k), vaccinated cases have the second highest deaths (peak around 0.52 deaths per 100k), and boosted cases have the fewest deaths (peak around 0.19 deaths per 100k).",
   "metadata": {
    "cell_id": "c246b71c51d2423ebae84528e6f5b5b5",
    "tags": [],
    "deepnote_app_coordinates": {
     "x": 0,
     "y": 90,
     "w": 12,
     "h": 5
    },
    "deepnote_cell_type": "markdown",
    "deepnote_cell_height": 231.515625
   }
  },
  {
   "cell_type": "markdown",
   "source": "### Visualizing deaths of each vaccination status in different months",
   "metadata": {
    "cell_id": "0c79d177782e41a9bb0afa220ec8b59c",
    "tags": [],
    "deepnote_app_coordinates": {
     "x": 0,
     "y": 487,
     "w": 12,
     "h": 4
    },
    "deepnote_cell_type": "markdown",
    "deepnote_cell_height": 94
   }
  },
  {
   "cell_type": "markdown",
   "source": "<center><img src='Figures/fig3(2).png' style='width:550px'></center>",
   "metadata": {
    "cell_id": "4227620a5aca4f1290a3554ebed73994",
    "tags": [],
    "deepnote_app_coordinates": {
     "x": 0,
     "y": 456,
     "w": 12,
     "h": 10
    },
    "deepnote_cell_type": "markdown",
    "deepnote_cell_height": 375.734375
   }
  },
  {
   "cell_type": "markdown",
   "source": "*Figure 3: Point-and-line plots of positive cases/deaths/hospitalizations per 100k against months on each vaccination status (unvaccinated,vaccinated,and boosted)*",
   "metadata": {
    "cell_id": "a3e198be4d3a42c2a82095df85e4e223",
    "tags": [],
    "deepnote_app_coordinates": {
     "x": 0,
     "y": 108,
     "w": 12,
     "h": 5
    },
    "deepnote_cell_type": "markdown",
    "deepnote_cell_height": 74.78125
   }
  },
  {
   "cell_type": "markdown",
   "source": "In Figure 3, Death rates and hospitalization rates are decreasing over time, while lines in positive cases per 100k show a slight increase from March to April at each vaccination status. Boosted cases in general are observed to have the lowest positive/deaths/hospitalizations rates, although in April, there's a crossing over between lines of vaccinated hospitalizations and lines of boosted hospitalizations ",
   "metadata": {
    "cell_id": "1780e337b6794ca4adf77f090ffeeeca",
    "tags": [],
    "deepnote_app_coordinates": {
     "x": 0,
     "y": 114,
     "w": 12,
     "h": 5
    },
    "deepnote_cell_type": "markdown",
    "deepnote_cell_height": 141.953125
   }
  },
  {
   "cell_type": "markdown",
   "source": "### Exploring correlations within dataset",
   "metadata": {
    "cell_id": "3e93d5d22dfa42f58aa2e162e2b9a952",
    "tags": [],
    "deepnote_app_coordinates": {
     "x": 0,
     "y": 529,
     "w": 12,
     "h": 3
    },
    "deepnote_cell_type": "markdown",
    "deepnote_cell_height": 62
   }
  },
  {
   "cell_type": "markdown",
   "source": "<center><img src='Figures/fig6.png' style='width:500px'></center>",
   "metadata": {
    "cell_id": "a1384214764f402d88a219d05bd9f91e",
    "tags": [],
    "deepnote_app_coordinates": {
     "x": 0,
     "y": 533,
     "w": 12,
     "h": 18
    },
    "deepnote_cell_type": "markdown",
    "deepnote_cell_height": 498.15625
   }
  },
  {
   "cell_type": "markdown",
   "source": "*Figure 4: Heat map for correlatoins of variables in the data*",
   "metadata": {
    "cell_id": "0e7e98cc99614613b038eab88b68adba",
    "tags": [],
    "deepnote_app_coordinates": {
     "x": 0,
     "y": 132,
     "w": 12,
     "h": 5
    },
    "deepnote_cell_type": "markdown",
    "deepnote_cell_height": 52.390625
   }
  },
  {
   "cell_type": "markdown",
   "source": "When looking at boosted deaths, boosted cases, and date, there is a moderate positive correlation between boosted deaths and boosted cases, a strong negative correlation between date and boosted deaths, and a moderate negative correlation between boosted cases and date. Between population boosted and date, the association is strong and positive ",
   "metadata": {
    "cell_id": "fbd9955e41574334b25373f036609965",
    "tags": [],
    "deepnote_app_coordinates": {
     "x": 0,
     "y": 138,
     "w": 12,
     "h": 5
    },
    "deepnote_cell_type": "markdown",
    "deepnote_cell_height": 119.5625
   }
  },
  {
   "cell_type": "markdown",
   "source": "### Scattering boosted deaths against boosted cases by months and fitting a linear model",
   "metadata": {
    "cell_id": "3459a704c2184c83b1a97412ccdce356",
    "tags": [],
    "deepnote_app_coordinates": {
     "x": 0,
     "y": 557,
     "w": 12,
     "h": 3
    },
    "deepnote_cell_type": "markdown",
    "deepnote_cell_height": 94
   }
  },
  {
   "cell_type": "markdown",
   "source": "<center><img src='Figures/fig7(true2).png' style='width:500px'> ",
   "metadata": {
    "cell_id": "8fcf6c7e162644c38ae37c906081a536",
    "tags": [],
    "deepnote_app_coordinates": {
     "x": 0,
     "y": 0,
     "w": 12,
     "h": 5
    },
    "deepnote_cell_type": "markdown",
    "deepnote_cell_height": 369.328125
   }
  },
  {
   "cell_type": "markdown",
   "source": "*Figure 5: Scatterplot of log transformation of total deaths per 100k against the number of boosted persons by month with fitted multiple linear regression lines*",
   "metadata": {
    "cell_id": "2a99cac06eaf4ce4b58240650a503f60",
    "tags": [],
    "deepnote_app_coordinates": {
     "x": 0,
     "y": 0,
     "w": 12,
     "h": 5
    },
    "deepnote_cell_type": "markdown",
    "deepnote_cell_height": 74.78125
   }
  },
  {
   "cell_type": "markdown",
   "source": "Variable   |Exponentiate coefficient estimates      | Standard Error\n--- | ---  |  ---\n______________________   | __________________________________ | _____________________________\nboosted_cases  |  1.000000026820428| 2.6820427842103426e-8\nmonths_Feburary | 1.821386 | 0.5995977306259569\nmonths_March | 3.741629 | 1.3195210630687657\nmonhts_April | 27.652413 | 3.3197129783978796\nFeb x boosted | 1.0 | 4.757395046481492e-8\nMar x boosted | 1.0 | 9.380510899654589e-8\nApril x boosted | 1.0 | 2.2567797909232606e-7\n\n\nName | Value\n--- | --- \n______________________   | __________________________________\nResidual sum of squares |  0.992917791097417\nEstimated error variance| 9.74879055e-03",
   "metadata": {
    "cell_id": "a17e743542954a03af2094a146de31b2",
    "tags": [],
    "deepnote_app_coordinates": {
     "x": 0,
     "y": 647,
     "w": 12,
     "h": 11
    },
    "deepnote_cell_type": "markdown",
    "deepnote_cell_height": 347.078125
   }
  },
  {
   "cell_type": "markdown",
   "source": "*Table 1: Summary of Figure 5 plot with variable names and their coefficients, R^2, and estimated variance*",
   "metadata": {
    "cell_id": "c7c220f120ee4123bd057fbbc5e2e5b4",
    "tags": [],
    "deepnote_app_coordinates": {
     "x": 0,
     "y": 156,
     "w": 12,
     "h": 5
    },
    "deepnote_cell_type": "markdown",
    "deepnote_cell_height": 74.78125
   }
  },
  {
   "cell_type": "markdown",
   "source": "In Figure 5, different trends are shown at each month. In January, there is a positive correlation; negative associations are observed in Feburary, March, and April. The trend is relatively steady each month, and the R^2 value is quite high (0.993), meaning that about 99.3% of the variation in total deaths per 100k is explained by the predictors. However, by looking at the fit, we can see that some of the nonlinearity is not captured in the fitted lines.",
   "metadata": {
    "cell_id": "9a7b536f9a60408ca440ed870185b259",
    "tags": [],
    "deepnote_app_coordinates": {
     "x": 0,
     "y": 0,
     "w": 12,
     "h": 5
    },
    "deepnote_cell_type": "markdown",
    "deepnote_cell_height": 141.953125
   }
  },
  {
   "cell_type": "markdown",
   "source": "### Principal components analysis",
   "metadata": {
    "cell_id": "d066acc2427e4232b6f1e2eee6d96cbc",
    "tags": [],
    "deepnote_app_coordinates": {
     "x": 0,
     "y": 577,
     "w": 12,
     "h": 3
    },
    "deepnote_cell_type": "markdown",
    "deepnote_cell_height": 62
   }
  },
  {
   "cell_type": "markdown",
   "source": "<center><img src='Figures/fig6(t-p).png' style='width:400px'></center>",
   "metadata": {
    "cell_id": "70210f70ed7d4d8b9c189ca6ea418d0f",
    "tags": [],
    "deepnote_app_coordinates": {
     "x": 0,
     "y": 581,
     "w": 12,
     "h": 15
    },
    "deepnote_cell_type": "markdown",
    "deepnote_cell_height": 368.359375
   }
  },
  {
   "cell_type": "markdown",
   "source": "*Figure 6: dual-axis plot showing the proportion of variance explained (y) as a function of component (x) in green on the left side and the cumulative variance explained (y) also as a function of component (x) in blue on the right side.*",
   "metadata": {
    "cell_id": "eff57d504ea34002bcfd4adceba88f2e",
    "tags": [],
    "deepnote_app_coordinates": {
     "x": 0,
     "y": 252,
     "w": 12,
     "h": 5
    },
    "deepnote_cell_type": "markdown",
    "deepnote_cell_height": 97.171875
   }
  },
  {
   "cell_type": "markdown",
   "source": "In Figure 6, we see that thwo components out of seven explain more than 80 percent of variations and covariations. Components after the third one do not contribute to the total variance explained. Thus, the principal components selected are PC1 and PC2",
   "metadata": {
    "cell_id": "0ccd8ac1cfdc4d44bc88c2db46ee58ce",
    "tags": [],
    "deepnote_app_coordinates": {
     "x": 0,
     "y": 258,
     "w": 12,
     "h": 5
    },
    "deepnote_cell_type": "markdown",
    "deepnote_cell_height": 97.171875
   }
  },
  {
   "cell_type": "markdown",
   "source": "---\n## Discussion",
   "metadata": {
    "cell_id": "00005-b03f7e4f-f6a8-4119-b9b9-93621226cf24",
    "deepnote_app_coordinates": {
     "x": 0,
     "y": 348,
     "w": 12,
     "h": 5
    },
    "deepnote_cell_type": "markdown",
    "deepnote_cell_height": 71
   }
  },
  {
   "cell_type": "markdown",
   "source": "In Figure 1, we see that unvaccinated individuals have higher deaths than vaccinated individuals, who have higher deaths than boosted individuals, and this observation is similar in terms of hospitalizations and cases. Also, a peak was observed in January 2022. With further investigation, it was found that this peak in deaths and overall illness was due to the increasing spread of the Omicron variant of Covid-19. Therefore, it is sensical that the data was split into time periods before and after the peak of Omicron. Furthermore, in Figure 2, we can see that the points for deaths after January 2022 are relatively higher than the points for deaths before 2022. This further confirms the differential effect of Omicron. An interesting observation from both time periods in all three graphs is that there is nonlinearity. Through further analysis of the raw data, it becomes apparent that a few weeks after spikes in Covid cases, the number of cases tends to decrease; however, though the case counts decrease, the number of deaths tends to be higher in the following weeks because individuals from the spike in cases may die in later weeks.\n\nThe aforementioned analyses led us to question how well month and population boosted together could estimate the total number of deaths per 100k in California. Based on our multiple linear regression model of months and population boosted against deaths per 100k, the model generally fits the data well. However, some non-linear trends were not captured by the fitted lines, and, based on our model summary, it seemed to contain too many regressors. From our PCA, we learned that three out of seven components explain all variation and correlation in the original data, indicating that the set of full regressors is collinear. This means that there were variables in our analysis possibly explaining the same variation in total deaths, as we suspected from the model summary. In terms of further analysis, we might question whether we should fit variables in the dataset other than the ones we chose (since collinearity exists within our model) and what type of model might fit the data better. Also, it may be useful to explore how the different variants of Covid-19 have affected California and whether the changes in regulations over time along with medical breakthroughs have lessened the effect of the variants.",
   "metadata": {
    "cell_id": "bfcdad681db942449dab237a9f441834",
    "tags": [],
    "deepnote_app_coordinates": {
     "x": 0,
     "y": 354,
     "w": 12,
     "h": 5
    },
    "deepnote_cell_type": "markdown",
    "deepnote_cell_height": 603.765625
   }
  },
  {
   "cell_type": "markdown",
   "source": "## Code Apendix",
   "metadata": {
    "cell_id": "5e9f1048a2db4d25b601f4ba722d716b",
    "tags": [],
    "deepnote_app_coordinates": {
     "x": 0,
     "y": 372,
     "w": 12,
     "h": 5
    },
    "deepnote_cell_type": "markdown",
    "deepnote_cell_height": 70
   }
  },
  {
   "cell_type": "code",
   "metadata": {
    "cell_id": "6de23aabc68a4f6081e4590a2f220748",
    "tags": [],
    "deepnote_to_be_reexecuted": false,
    "source_hash": "b8ebbbed",
    "execution_start": 1654907291542,
    "execution_millis": 0,
    "deepnote_app_coordinates": {
     "x": 0,
     "y": 659,
     "w": 12,
     "h": 9
    },
    "deepnote_cell_type": "code",
    "deepnote_cell_height": 225
   },
   "source": "# tidying the data further\n\nrawdata = pd.read_csv('covid19data.csv')\ntest = rawdata.iloc[:,[0,12,13,14,15,16,17,18,19,20,21,22,23]]\ntest = test.sort_values(by='date')\ntest = test.iloc[7:,:]\nimport os\nos.getcwd()\ntest.to_csv('/work/data.csv')",
   "execution_count": null,
   "outputs": []
  },
  {
   "cell_type": "code",
   "metadata": {
    "cell_id": "72cf16f16dc2473d8c6f47d7de6884a3",
    "tags": [],
    "deepnote_to_be_reexecuted": false,
    "source_hash": "47151446",
    "execution_start": 1654907291577,
    "execution_millis": 0,
    "deepnote_app_coordinates": {
     "x": 0,
     "y": 669,
     "w": 12,
     "h": 14
    },
    "deepnote_cell_type": "code",
    "deepnote_cell_height": 351
   },
   "source": "# altering the data to make analysis easier\n\ndata = tidydata.copy()\n# splitting the date column to get month/day/year separately\ndata[['Year', 'Month', 'Day']] = data[\n    'date'\n    ].str.split(\n    '-', \n    expand = True, \n    n=2\n    )\ndata = data.drop(columns='date')\n#boosted_by_month.head()\n\n# making Month_Year variable for ease of plotting\ndata['Year_Month_Day'] = data['Year'] + data['Month'] + data['Day']",
   "execution_count": null,
   "outputs": []
  },
  {
   "cell_type": "code",
   "metadata": {
    "cell_id": "66250e86bbc14eb4b7ff64b64cdedd38",
    "tags": [],
    "deepnote_to_be_reexecuted": false,
    "source_hash": "df34dd90",
    "execution_start": 1654907291578,
    "execution_millis": 0,
    "deepnote_app_coordinates": {
     "x": 0,
     "y": 378,
     "w": 12,
     "h": 5
    },
    "deepnote_cell_type": "code",
    "deepnote_cell_height": 81
   },
   "source": "# Figure 1 code : Average Deaths (per 100k) per Month by Vaccination Status taken from Project Plan",
   "execution_count": null,
   "outputs": []
  },
  {
   "cell_type": "code",
   "metadata": {
    "cell_id": "1f86ad948ae348d0a4b6aeaba4136570",
    "tags": [],
    "deepnote_to_be_reexecuted": false,
    "source_hash": "d85d03ae",
    "execution_start": 1654907291578,
    "execution_millis": 12,
    "deepnote_app_coordinates": {
     "x": 0,
     "y": 384,
     "w": 12,
     "h": 5
    },
    "deepnote_cell_type": "code",
    "deepnote_cell_height": 981
   },
   "source": "# Figure 2 code : Exploring the general relationship between death rate and cases (before and after Omicron spike)\n\n# Plotting Unvaccinated Deaths (per 100k) vs. Unvaccinated Cases (per 100k)\n# base chart\nbase1 = alt.Chart(data).transform_calculate(\n    pre_omicron = 'datum.Year_Month_Day < 20220109')\n\n# data scatter\nscatter1 = base1.mark_circle().encode(\n    x = alt.X('unvaccinated_cases_per_100k', title = 'Unvaccinated Cases (per 100k)', scale = alt.Scale(zero = False)),\n    y = alt.Y('unvaccinated_deaths_per_100k', title = 'Unvaccinated Deaths (per 100k)', scale = alt.Scale(zero = False)),\n    color = alt.Color('pre_omicron:N', title = 'Pre 01/09/2022')\n    )\n\n# show\n#scatter1\n\n# Plotting Vaccinated Deaths (per 100k) vs. Vaccinated Cases (per 100k)\n\n# base chart\nbase2 = alt.Chart(data).transform_calculate(\n    pre_omicron = 'datum.Year_Month_Day < 20220109')\n\n# data scatter\nscatter2 = base2.mark_circle().encode(\n    x = alt.X('vaccinated_cases_per_100k', title = 'Vaccinated Cases (per 100k)', scale = alt.Scale(zero = False)),\n    y = alt.Y('vaccinated_deaths_per_100k', title = 'Vaccinated Deaths (per 100k)', scale = alt.Scale(zero = False)),\n    color = alt.Color('pre_omicron:N', title = 'Pre 01/09/2022')\n    )\n\n# show\n#scatter2\n\n# Plotting Boosted Deaths (per 100k) vs. Boosted Cases (per 100k)\n\n# base chart\nbase3 = alt.Chart(data).transform_calculate(\n    pre_omicron = 'datum.Year_Month_Day < 20220109')\n\n# data scatter\nscatter3 = base3.mark_circle().encode(\n    x = alt.X('boosted_cases_per_100k', title = 'Boosted Cases (per 100k)', scale = alt.Scale(zero = False)),\n    y = alt.Y('boosted_deaths_per_100k', title = 'Boosted Deaths (per 100k)', scale = alt.Scale(zero = False)),\n    color = alt.Color('pre_omicron:N', title = 'Pre 01/09/2022')\n    )\n\n# show\n#scatter3\n\nFig2 = (scatter1 | scatter2 | scatter3).properties(title = 'Deaths (per 100k) vs. Cases (per 100k) by Vaccination Status')\n#Fig2",
   "execution_count": null,
   "outputs": []
  },
  {
   "cell_type": "code",
   "metadata": {
    "cell_id": "c1d4ddcef2b04d2296e939586bc402d2",
    "tags": [],
    "deepnote_app_coordinates": {
     "x": 0,
     "y": 0,
     "w": 12,
     "h": 5
    },
    "deepnote_to_be_reexecuted": false,
    "source_hash": "7a6573bd",
    "execution_start": 1654907291646,
    "execution_millis": 1,
    "deepnote_cell_type": "code",
    "deepnote_cell_height": 495
   },
   "source": "# Figure 3 code : Visualizing deaths of each vaccination status in different months\n\n# Deaths by vaccination status since 01/09/2022\nplot3_df = data[(data.Year_Month_Day >= '20220109')].loc[:,['Year_Month_Day','unvaccinated_deaths_per_100k',\n'vaccinated_deaths_per_100k',\n'boosted_deaths_per_100k']].melt(\n    id_vars = ['Year_Month_Day'],\n    var_name = 'Vaccination Status',\n    value_name = 'Deaths per 100k'\n)\n\nFig3 = alt.Chart(plot3_df).transform_filter(\n    alt.FieldOneOfPredicate(field = 'Vaccination Status',\n                            oneOf = ['unvaccinated_deaths_per_100k','vaccinated_deaths_per_100k','boosted_deaths_per_100k'])\n).mark_line().encode(\n    y = alt.Y('Deaths per 100k', title = 'Deaths per 100k',scale = alt.Scale(type = 'log')),\n    x = alt.X('Year_Month_Day', title = 'Days from 01/09/2022 to 04/24/2022', axis=alt.Axis(labels=False)),\n    color = 'Vaccination Status:N'\n).properties(\n    width = 400,\n    height = 300,\n    title='Deaths Per 100k by Vaccination Status Over Time'\n)\n#Fig3",
   "execution_count": null,
   "outputs": []
  },
  {
   "cell_type": "code",
   "metadata": {
    "cell_id": "f2b7d3911b8249eb8ec7b21b1c949ab8",
    "tags": [],
    "deepnote_to_be_reexecuted": false,
    "source_hash": "8918db2e",
    "execution_start": 1654907291690,
    "execution_millis": 1,
    "deepnote_app_coordinates": {
     "x": 0,
     "y": 126,
     "w": 12,
     "h": 5
    },
    "deepnote_cell_type": "code",
    "deepnote_cell_height": 729
   },
   "source": "# Figure 4 code : Exploring correlations within dataset\n\n# Consturcting a heat map to visualize relationships between variables of interest \ndata1 = data[(data.Year_Month_Day >= '20220109')].dropna().drop('index',axis=1)\ndata1['Year_Month_Day'] = data1.Year_Month_Day.astype('float')\ntotal_deaths = data['unvaccinated_deaths_per_100k'] + data['vaccinated_deaths_per_100k'] + data['boosted_deaths_per_100k']\ntotal_cases = data['unvaccinated_cases_per_100k'] + data['vaccinated_cases_per_100k'] + data['boosted_cases_per_100k']\ndata1['total_deaths'] = total_deaths\ndata1['total_cases'] = total_cases\n# corr_mx\n\nx_mx = data1.drop(['Month','Year','Day'],axis=1)\ncorr_mx = x_mx.corr()\n\n# melt corr_mx\ncorr_mx_long = corr_mx.reset_index().rename(\n columns = {'index': 'row'}\n).melt(\n id_vars = 'row',\n var_name = 'col',\n value_name = 'Correlation'\n)\n\n# construct plot\nFig4 = alt.Chart(corr_mx_long).mark_rect().encode(\n x = alt.X('col', title = '', sort = {'field': 'Correlation', 'order': 'ascending'}),\n y = alt.Y('row', title = '', sort = {'field': 'Correlation', 'order': 'ascending'}),\n color = alt.Color('Correlation',\n scale = alt.Scale(scheme = 'blueorange', # diverging gradient\n domain = (-1, 1), # ensure white = 0\n type = 'sqrt'), # adjust gradient scale\n legend = alt.Legend(tickCount = 5)) # add ticks to colorbar at 0.5 for reference\n).properties(\n    width = 300, \n    height = 300\n)\n#Fig4",
   "execution_count": null,
   "outputs": []
  },
  {
   "cell_type": "code",
   "metadata": {
    "cell_id": "3255dff5cb1e40bda66ddba321d16a84",
    "tags": [],
    "deepnote_app_coordinates": {
     "x": 0,
     "y": 0,
     "w": 12,
     "h": 5
    },
    "deepnote_to_be_reexecuted": false,
    "source_hash": "17df91ff",
    "execution_start": 1654907291727,
    "execution_millis": 36,
    "deepnote_cell_type": "code",
    "deepnote_cell_height": 1395
   },
   "source": "# Figure 5 code : Scattering total deaths rates against population boosted by months and fitting a linear model\n\n# create a copy\ndata2 = data[(data.Year_Month_Day >= '20220109')].dropna()\ntotal_deaths = data2['unvaccinated_deaths_per_100k'] + data2['vaccinated_deaths_per_100k'] + data2['boosted_deaths_per_100k']\ndata2['total_deaths_per_100k'] = np.log(total_deaths)\ndata2['population_boosted'] = data2['population_boosted']\n\n# scatter by months\nFig5_scatter = alt.Chart(data2).mark_circle(opacity = 0.7).encode(\n    x = alt.X('population_boosted', title = 'Boosted Population', scale = alt.Scale(domain = (9000000,15000000))),\n    y = alt.Y('total_deaths_per_100k', title = 'Total Deaths per 100k', scale = alt.Scale(nice = False)),\n    color = alt.Color('Month:N', title = 'Month')\n).properties(\n    title = 'Scatterplot of Total Death Rate vs. Boosted Population by Month'\n)\n\n#Fig5_scatter\n\n# encode by indicator variables\nmonth_df = pd.get_dummies(data2.Month, drop_first = True)\n\n# compute interaction terms\ninteraction_df = month_df.multiply(data2.population_boosted, axis = 0)\ninteraction_df.columns = ['02 x boosted', '03 x boosted', '04 x boosted']\n\n# append indicators to data\nx_mlr_df = pd.concat([data2.population_boosted, month_df, interaction_df], ignore_index = False, axis = 1)\n\n# add intercept column\nx_mlr = add_dummy_feature(x_mlr_df, value = 1)\n\n# configure model\nmlr = LinearRegression(fit_intercept = False)\n\n# fit model\ny = data2.total_deaths_per_100k\nmlr.fit(x_mlr, y)\n\n# store dimensions of explanatory variable matrix\nn, p = x_mlr.shape\n\n# compute residual variance\nfitted_mlr = mlr.predict(x_mlr)\nresid_mlr = y - fitted_mlr\nsigma2_hat = ((n - 1)/(n - p))*resid_mlr.var()\n\n# compute standard errors\nxtx_mlr = x_mlr.transpose().dot(x_mlr)\nmlrcoef_vcov = np.linalg.inv(xtx_mlr)*sigma2_hat\nmlrcoef_se = np.sqrt(mlrcoef_vcov.diagonal())\n\n# construct coefficient table\nmlrcoef_table = pd.DataFrame(\n    data = {'coefficient estimate': mlr.coef_, 'standard error': mlrcoef_se},\n    index = ['intercept', 'population_boosted', 'February', 'March', 'April', 'Feb x boosted', 'Mar x boosted', 'April x boosted']\n)\n\ndata2['fitted_mlr'] = fitted_mlr\ndata2['resid_mlr'] = resid_mlr\nR_2 = r2_score(data2.total_deaths_per_100k, data2.fitted_mlr)\n\n# construct line plot\nFig5_line = alt.Chart(data2).mark_line().encode(\n    x = alt.X('population_boosted'),\n    y = alt.Y('fitted_mlr'),\n    color = 'Month:N'\n)\n\n#layer\nFig5_fit = (Fig5_scatter + Fig5_line).properties(\n    title = 'Multiple Regression Including All Explanatory Variables by Month'\n)\n#Fig5_fit.properties(width=500)",
   "execution_count": null,
   "outputs": []
  },
  {
   "cell_type": "code",
   "metadata": {
    "cell_id": "dfbddbb405904dd790cae749a914f0ae",
    "tags": [],
    "deepnote_app_coordinates": {
     "x": 0,
     "y": 0,
     "w": 12,
     "h": 5
    },
    "deepnote_to_be_reexecuted": false,
    "source_hash": "7208f74f",
    "execution_start": 1654907291768,
    "execution_millis": 18,
    "deepnote_cell_type": "code",
    "deepnote_cell_height": 225
   },
   "source": "# Table 1 code : Model Summary for Figure 5\n\nexp1 = np.exp(mlrcoef_table.iloc[1,1])\nexp2 = np.exp(mlrcoef_table.iloc[2:5,1])\nexp3 = np.exp(mlrcoef_table.iloc[5:,1])\n#print(exp1)\n#print(exp2)\n#print(exp3)\n#print(R_2)",
   "execution_count": null,
   "outputs": []
  },
  {
   "cell_type": "code",
   "metadata": {
    "cell_id": "19322556efcb43ad93fcd7dafe318221",
    "tags": [],
    "deepnote_to_be_reexecuted": false,
    "source_hash": "ec56b34b",
    "allow_embed": false,
    "execution_start": 1654907291842,
    "execution_millis": 70,
    "deepnote_app_coordinates": {
     "x": 0,
     "y": 438,
     "w": 12,
     "h": 5
    },
    "deepnote_cell_type": "code",
    "deepnote_cell_height": 927
   },
   "source": "# Figure 6 code : Principal component analysis\n\nx_mx = x_mlr\nfrom sklearn.decomposition import PCA\n# center and scale ('normalize')\nx_ctr = (x_mx - x_mx.mean())/x_mx.std()\n\n# compute principal components\npca = PCA(n_components = x_ctr.shape[1])\npca.fit(x_ctr)\n\n# variance ratios\npca.explained_variance_ratio_\n\n# store proportion of variance explained as a dataframe\npca_var_explained = pd.DataFrame({'Proportion of variance explained': pca.explained_variance_ratio_})\n\n# add component number as a new column\npca_var_explained['Component'] = np.arange(1, 9)\npca_var_explained\n\n# add cumulative variance explained as a new column\npca_var_explained['Cumulative variance explained'] = pca_var_explained['Proportion of variance explained'].cumsum()\n\n# encode component axis only as base layer\nbase = alt.Chart(pca_var_explained).encode(\n x = 'Component')\n# make a base layer for the proportion of variance explained\nprop_var_base = base.encode(\n y = alt.Y('Proportion of variance explained',\n axis = alt.Axis(titleColor = '#57A44C'))\n)\n# make a base layer for the cumulative variance explained\ncum_var_base = base.encode(\n y = alt.Y('Cumulative variance explained', axis = alt.Axis(titleColor = '#5276A7'))\n)\n\n# add points and lines to each base layer\nprop_var = prop_var_base.mark_line(stroke = '#57A44C') + prop_var_base.mark_point(color = '#57A44C')\ncum_var = cum_var_base.mark_line() + cum_var_base.mark_point()\n\n# layer the layers\nFig6 = alt.layer(prop_var, cum_var).resolve_scale(y = 'independent').properties(\n    title = 'Proportion of variance explained VS Cumulative variance explained'\n)\n\n# display\n#Fig6",
   "execution_count": null,
   "outputs": []
  },
  {
   "cell_type": "markdown",
   "source": "<a style='text-decoration:none;line-height:16px;display:flex;color:#5B5B62;padding:10px;justify-content:end;' href='https://deepnote.com?utm_source=created-in-deepnote-cell&projectId=03b916f0-6b5e-4d99-9ed1-a0b7d32e15e6' target=\"_blank\">\n<img alt='Created in deepnote.com' style='display:inline;max-height:16px;margin:0px;margin-right:7.5px;' src='data:image/svg+xml;base64,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' > </img>\nCreated in <span style='font-weight:600;margin-left:4px;'>Deepnote</span></a>",
   "metadata": {
    "tags": [],
    "created_in_deepnote_cell": true,
    "deepnote_cell_type": "markdown"
   }
  }
 ],
 "nbformat": 4,
 "nbformat_minor": 4,
 "metadata": {
  "kernelspec": {
   "display_name": "Python 3",
   "language": "python",
   "name": "python3"
  },
  "language_info": {
   "codemirror_mode": {
    "name": "ipython",
    "version": 3
   },
   "file_extension": ".py",
   "mimetype": "text/x-python",
   "name": "python",
   "nbconvert_exporter": "python",
   "pygments_lexer": "ipython3",
   "version": "3.8.5"
  },
  "deepnote_notebook_id": "3492d361-9f69-4cd7-8353-3d91c7e320de",
  "deepnote": {},
  "deepnote_execution_queue": [],
  "deepnote_app_layout": "article"
 }
}